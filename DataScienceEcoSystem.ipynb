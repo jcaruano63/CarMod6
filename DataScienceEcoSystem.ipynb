{
 "cells": [
  {
   "cell_type": "markdown",
   "id": "b0480040-5ed3-41dd-9836-3f94142f5135",
   "metadata": {},
   "source": [
    "# Data Science Tools and Ecosystem"
   ]
  },
  {
   "cell_type": "markdown",
   "id": "f24f99de-b7b4-4e70-a99e-2c62406a1672",
   "metadata": {},
   "source": [
    "#In this notebook, Data Science Tools and Ecosystem are summarized"
   ]
  },
  {
   "cell_type": "markdown",
   "id": "7e73791f-e7a0-4514-968d-a6a68b3ffc16",
   "metadata": {},
   "source": [
    "**Objectives:**\n",
    "+ Languages of data science\n",
    "+ Libraries of data science\n",
    "+ Data science tools\n",
    "+ Arithmetic examples"
   ]
  },
  {
   "cell_type": "markdown",
   "id": "df90f43a-3d1a-49ad-80d2-bb8eb77d1b8e",
   "metadata": {},
   "source": [
    "### Some of the popular languages that data scientists use are:\n",
    "\n",
    "1. Python\n",
    "2. SQL\n",
    "3. C++\n",
    "4. R\n",
    "5. Java"
   ]
  },
  {
   "cell_type": "markdown",
   "id": "d303a0e6-c872-46a7-92a8-c26667b36695",
   "metadata": {},
   "source": [
    "### Some commonly used libraries by Data Scientists include:\n",
    "\n",
    "    1. Scipy\n",
    "    2. Pandas\n",
    "    3. Numpy\n",
    "    4. Matplotlib\n",
    "    5. TensorFlow"
   ]
  },
  {
   "cell_type": "markdown",
   "id": "44b40bce-2383-44a2-b46b-14b0fe43afa6",
   "metadata": {},
   "source": [
    "#### Examples of Data Science Tools Table\n",
    "| Data Science Tools |\n",
    "| ------------------ |\n",
    "| Jupyter Notebook |\n",
    "| RStudio |\n",
    "| GitHub |\n",
    "| Apache Spark |"
   ]
  },
  {
   "cell_type": "markdown",
   "id": "d78b859f-0644-40a5-9277-3fe9ed15eb25",
   "metadata": {},
   "source": [
    "### Below are a few examples of evaluating arithmetic expressions in Python"
   ]
  },
  {
   "cell_type": "code",
   "execution_count": 5,
   "id": "d8e45837-142a-438f-916c-479022cc61c0",
   "metadata": {},
   "outputs": [
    {
     "data": {
      "text/plain": [
       "17"
      ]
     },
     "execution_count": 5,
     "metadata": {},
     "output_type": "execute_result"
    }
   ],
   "source": [
    "#This is a simple arithmetic expression to multiply then add integers\n",
    "(3*4)+5"
   ]
  },
  {
   "cell_type": "code",
   "execution_count": 6,
   "id": "3a0e0ffa-0feb-4287-bf67-6a1bb3b5ffd7",
   "metadata": {},
   "outputs": [
    {
     "data": {
      "text/plain": [
       "3.3333333333333335"
      ]
     },
     "execution_count": 6,
     "metadata": {},
     "output_type": "execute_result"
    }
   ],
   "source": [
    "#This will convert 200 minutes into hours by dividing by 60\n",
    "200/60"
   ]
  },
  {
   "cell_type": "markdown",
   "id": "0455ec01-6b2b-4999-8940-b1b2bc23f540",
   "metadata": {},
   "source": [
    "## Author \n",
    "Joe Caruano"
   ]
  },
  {
   "cell_type": "code",
   "execution_count": null,
   "id": "eab9bf81-1fe4-46b3-92b8-d8596ceb64fb",
   "metadata": {},
   "outputs": [],
   "source": []
  }
 ],
 "metadata": {
  "kernelspec": {
   "display_name": "scipy-tutorials-2023",
   "language": "python",
   "name": "conda-env-scipy-tutorials-2023-py"
  },
  "language_info": {
   "codemirror_mode": {
    "name": "ipython",
    "version": 3
   },
   "file_extension": ".py",
   "mimetype": "text/x-python",
   "name": "python",
   "nbconvert_exporter": "python",
   "pygments_lexer": "ipython3",
   "version": "3.10.0"
  }
 },
 "nbformat": 4,
 "nbformat_minor": 5
}
